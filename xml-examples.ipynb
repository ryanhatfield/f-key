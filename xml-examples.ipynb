{
 "cells": [
  {
   "cell_type": "code",
   "execution_count": 2,
   "metadata": {
    "dotnet_interactive": {
     "language": "csharp"
    },
    "polyglot_notebook": {
     "kernelName": "csharp"
    }
   },
   "outputs": [
    {
     "name": "stdout",
     "output_type": "stream",
     "text": [
      "Examples taken from here: https://learn.microsoft.com/en-us/dotnet/api/system.xml.linq.xelement?view=net-7.0\n"
     ]
    }
   ],
   "source": [
    "Console.WriteLine(\"Examples taken from here: https://learn.microsoft.com/en-us/dotnet/api/system.xml.linq.xelement?view=net-7.0\");"
   ]
  },
  {
   "cell_type": "code",
   "execution_count": 3,
   "metadata": {
    "dotnet_interactive": {
     "language": "csharp"
    },
    "polyglot_notebook": {
     "kernelName": "csharp"
    }
   },
   "outputs": [],
   "source": [
    "using System.Xml.Linq;\n",
    "\n",
    "var xml = \n",
    "    new XElement(\"Something\",\n",
    "        new XAttribute(\"Att\", \"s\"),\n",
    "        new XAttribute(\"Att2\", \"gg\"),\n",
    "        new XElement(\"AnotherSomething\"),\n",
    "        new XElement(\"AnotherSomething\"));"
   ]
  },
  {
   "cell_type": "code",
   "execution_count": 4,
   "metadata": {
    "dotnet_interactive": {
     "language": "csharp"
    },
    "polyglot_notebook": {
     "kernelName": "csharp"
    }
   },
   "outputs": [
    {
     "name": "stdout",
     "output_type": "stream",
     "text": [
      "<Something Att=\"s\" Att2=\"gg\">\n",
      "  <AnotherSomething />\n",
      "  <AnotherSomething />\n",
      "</Something>\n"
     ]
    }
   ],
   "source": [
    "// Variables work across different notebook sections, \n",
    "// as long as the previous sections have been ran in this session.\n",
    "Console.WriteLine(xml.ToString());"
   ]
  },
  {
   "cell_type": "code",
   "execution_count": 5,
   "metadata": {
    "dotnet_interactive": {
     "language": "csharp"
    },
    "polyglot_notebook": {
     "kernelName": "csharp"
    }
   },
   "outputs": [],
   "source": [
    "using System.IO;\n",
    "\n",
    "File.WriteAllText(\"something.xml\", xml.ToString());\n",
    "var fileText = File.ReadAllText(\"something.xml\");\n",
    "\n",
    "Console.WriteLine(fileText);"
   ]
  }
 ],
 "metadata": {
  "kernelspec": {
   "display_name": ".NET (C#)",
   "language": "C#",
   "name": ".net-csharp"
  },
  "polyglot_notebook": {
   "kernelInfo": {
    "defaultKernelName": "csharp",
    "items": [
     {
      "aliases": [],
      "name": "csharp"
     }
    ]
   }
  }
 },
 "nbformat": 4,
 "nbformat_minor": 2
}
